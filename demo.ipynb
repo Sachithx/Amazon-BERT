{
 "cells": [
  {
   "cell_type": "markdown",
   "id": "0ff0fb4b",
   "metadata": {},
   "source": [
    "## Problem Definition and topic Importance"
   ]
  },
  {
   "cell_type": "markdown",
   "id": "40d1764d",
   "metadata": {},
   "source": [
    "### 📈 Financial Relevance of Sentiment Classification on Amazon Reviews\n",
    "\n",
    "In this assignment, I have used Amazon large review data on their products. Those are rated from 1-5, 5 is the top review. \n",
    "However, to align this with meaningful financial application, we focused on indetifying the people's sentiment on amazon product which may lead to generated proper indicator on how the Amazon as a company would perform such as,\n",
    "\n",
    "1. The consumers sentiment (whether positive or negative or neutral) as an indicator for financial outcome of the company itself. Which indirectly helps to predict the stock trends and income growth,\n",
    "\n",
    "2. Institutional investors increasingly rely on alternative data foe the market analysis, therefore this information would be used to Feed into quantitative trading strategies to enhance the Enhance credit risk models.\n",
    "\n",
    "3. Market Timing for Consumer Goods Stocks: we can apply our model to analyze reviews for consumer discretionary companies (like Nike, Sony, or Lululemon) : Positive sentiment clusters may signal when a company is about to experience a surge in sales.\n",
    "\n",
    "4. Automating Research and Decision-Making: Reduce manual review time. Instead of reading thousands of reviews, analysts get a high-level sentiment summary. Time has direct impact on money. This solution makes impact to save huge time.\n",
    "\n",
    "\n"
   ]
  },
  {
   "cell_type": "markdown",
   "id": "3d23b355",
   "metadata": {},
   "source": [
    "### 🎯 Sentiment Mapping Strategy\n",
    "\n",
    "To align the model's output with real-world financial interpretation, we chose to focus on high-level sentiment categories — representing the general public's opinion on Amazon products.\n",
    "\n",
    "#### Why Simplify to 3 Classes?\n",
    "\n",
    "Mapping the original 1–5 star review scale into three broader sentiment categories allows:\n",
    "\n",
    "- Easier interpretation by external stakeholders (investors, analysts, business strategists)\n",
    "- Improved model generalization and training efficiency\n",
    "- Better alignment with traditional sentiment analysis practices in finance\n",
    "\n",
    "#### 📊 Mapping Logic\n",
    "\n",
    "To achieve this, we re-labeled the review scores as follows:\n",
    "\n",
    "- ⭐️ 1 & 2 → **Negative**\n",
    "- ⭐️ 3 → **Neutral**\n",
    "- ⭐️ 4 & 5 → **Positive**\n",
    "\n",
    "This transformation enables the model to focus on meaningful distinctions in sentiment and produce outputs that can be directly used in downstream financial applications (e.g., forecasting demand or stock performance based on consumer feedback).\n"
   ]
  },
  {
   "cell_type": "markdown",
   "id": "919cc56e",
   "metadata": {},
   "source": [
    "## Analyze Dataset"
   ]
  },
  {
   "cell_type": "markdown",
   "id": "98ae6389",
   "metadata": {},
   "source": [
    "### Import Libraries and Dataset"
   ]
  },
  {
   "cell_type": "markdown",
   "id": "1c3df50f",
   "metadata": {},
   "source": [
    "We import the dataset directly from Huggingface library"
   ]
  },
  {
   "cell_type": "code",
   "execution_count": 123,
   "id": "1b385e3e",
   "metadata": {},
   "outputs": [],
   "source": [
    "from datasets import load_dataset\n",
    "import pandas as pd\n",
    "import re\n",
    "import matplotlib.pyplot as plt\n",
    "\n",
    "ds = load_dataset(\"yassiracharki/Amazon_Reviews_for_Sentiment_Analysis_fine_grained_5_classes\")\n"
   ]
  },
  {
   "cell_type": "code",
   "execution_count": 124,
   "id": "1ebebd56",
   "metadata": {},
   "outputs": [],
   "source": [
    "# Convert the 'train' split to a pandas DataFrame\n",
    "df_train = ds['train'].to_pandas()\n",
    "df_test = ds['test'].to_pandas()"
   ]
  },
  {
   "cell_type": "markdown",
   "id": "6d51522f",
   "metadata": {},
   "source": [
    "### Explore the Dataset"
   ]
  },
  {
   "cell_type": "code",
   "execution_count": 125,
   "id": "fc221b55",
   "metadata": {},
   "outputs": [
    {
     "data": {
      "text/html": [
       "<div>\n",
       "<style scoped>\n",
       "    .dataframe tbody tr th:only-of-type {\n",
       "        vertical-align: middle;\n",
       "    }\n",
       "\n",
       "    .dataframe tbody tr th {\n",
       "        vertical-align: top;\n",
       "    }\n",
       "\n",
       "    .dataframe thead th {\n",
       "        text-align: right;\n",
       "    }\n",
       "</style>\n",
       "<table border=\"1\" class=\"dataframe\">\n",
       "  <thead>\n",
       "    <tr style=\"text-align: right;\">\n",
       "      <th></th>\n",
       "      <th>class_index</th>\n",
       "      <th>review_title</th>\n",
       "      <th>review_text</th>\n",
       "    </tr>\n",
       "  </thead>\n",
       "  <tbody>\n",
       "    <tr>\n",
       "      <th>0</th>\n",
       "      <td>3</td>\n",
       "      <td>more like funchuck</td>\n",
       "      <td>Gave this to my dad for a gag gift after direc...</td>\n",
       "    </tr>\n",
       "    <tr>\n",
       "      <th>1</th>\n",
       "      <td>5</td>\n",
       "      <td>Inspiring</td>\n",
       "      <td>I hope a lot of people hear this cd. We need m...</td>\n",
       "    </tr>\n",
       "  </tbody>\n",
       "</table>\n",
       "</div>"
      ],
      "text/plain": [
       "   class_index        review_title  \\\n",
       "0            3  more like funchuck   \n",
       "1            5           Inspiring   \n",
       "\n",
       "                                         review_text  \n",
       "0  Gave this to my dad for a gag gift after direc...  \n",
       "1  I hope a lot of people hear this cd. We need m...  "
      ]
     },
     "execution_count": 125,
     "metadata": {},
     "output_type": "execute_result"
    }
   ],
   "source": [
    "df_train.head(2)"
   ]
  },
  {
   "cell_type": "code",
   "execution_count": 126,
   "id": "a5796668",
   "metadata": {},
   "outputs": [
    {
     "data": {
      "text/html": [
       "<div>\n",
       "<style scoped>\n",
       "    .dataframe tbody tr th:only-of-type {\n",
       "        vertical-align: middle;\n",
       "    }\n",
       "\n",
       "    .dataframe tbody tr th {\n",
       "        vertical-align: top;\n",
       "    }\n",
       "\n",
       "    .dataframe thead th {\n",
       "        text-align: right;\n",
       "    }\n",
       "</style>\n",
       "<table border=\"1\" class=\"dataframe\">\n",
       "  <thead>\n",
       "    <tr style=\"text-align: right;\">\n",
       "      <th></th>\n",
       "      <th>class_index</th>\n",
       "      <th>review_title</th>\n",
       "      <th>review_text</th>\n",
       "    </tr>\n",
       "  </thead>\n",
       "  <tbody>\n",
       "    <tr>\n",
       "      <th>0</th>\n",
       "      <td>1</td>\n",
       "      <td>mens ultrasheer</td>\n",
       "      <td>This model may be ok for sedentary types, but ...</td>\n",
       "    </tr>\n",
       "    <tr>\n",
       "      <th>1</th>\n",
       "      <td>4</td>\n",
       "      <td>Surprisingly delightful</td>\n",
       "      <td>This is a fast read filled with unexpected hum...</td>\n",
       "    </tr>\n",
       "  </tbody>\n",
       "</table>\n",
       "</div>"
      ],
      "text/plain": [
       "   class_index             review_title  \\\n",
       "0            1          mens ultrasheer   \n",
       "1            4  Surprisingly delightful   \n",
       "\n",
       "                                         review_text  \n",
       "0  This model may be ok for sedentary types, but ...  \n",
       "1  This is a fast read filled with unexpected hum...  "
      ]
     },
     "execution_count": 126,
     "metadata": {},
     "output_type": "execute_result"
    }
   ],
   "source": [
    "df_test.head(2)"
   ]
  },
  {
   "cell_type": "code",
   "execution_count": 127,
   "id": "dab7626f",
   "metadata": {},
   "outputs": [
    {
     "name": "stdout",
     "output_type": "stream",
     "text": [
      "Number of samples: 3000000\n",
      "class_index       0\n",
      "review_title    188\n",
      "review_text       0\n",
      "dtype: int64\n",
      "class_index\n",
      "3    0.2\n",
      "5    0.2\n",
      "4    0.2\n",
      "1    0.2\n",
      "2    0.2\n",
      "Name: proportion, dtype: float64\n"
     ]
    }
   ],
   "source": [
    "# Check dataset size\n",
    "print(f\"Number of samples: {len(df_train)}\")\n",
    "\n",
    "# Check for missing values\n",
    "print(df_train.isnull().sum())\n",
    "\n",
    "# Check class distribution\n",
    "print(df_train['class_index'].value_counts(normalize=True))\n"
   ]
  },
  {
   "cell_type": "markdown",
   "id": "6cbcd466",
   "metadata": {},
   "source": [
    "There are 3 million data points. Importantly there are no missing values in class or text. The 188 missing values in title section will not harmfull for our model."
   ]
  },
  {
   "cell_type": "code",
   "execution_count": 128,
   "id": "9bb54a3e",
   "metadata": {},
   "outputs": [
    {
     "name": "stdout",
     "output_type": "stream",
     "text": [
      "<class 'pandas.core.frame.DataFrame'>\n",
      "RangeIndex: 650000 entries, 0 to 649999\n",
      "Data columns (total 3 columns):\n",
      " #   Column        Non-Null Count   Dtype \n",
      "---  ------        --------------   ----- \n",
      " 0   class_index   650000 non-null  int64 \n",
      " 1   review_title  649974 non-null  object\n",
      " 2   review_text   650000 non-null  object\n",
      "dtypes: int64(1), object(2)\n",
      "memory usage: 14.9+ MB\n"
     ]
    }
   ],
   "source": [
    "df_test.info()"
   ]
  },
  {
   "cell_type": "markdown",
   "id": "55831f98",
   "metadata": {},
   "source": [
    "The test dataset gas 650000 data points, which we will keep for the testing the model."
   ]
  },
  {
   "cell_type": "markdown",
   "id": "e7f94932",
   "metadata": {},
   "source": [
    "## Cleaning and Preprocessing"
   ]
  },
  {
   "cell_type": "code",
   "execution_count": null,
   "id": "0353d1ff",
   "metadata": {},
   "outputs": [],
   "source": [
    "# Drop rows with missing review_text or class_index\n",
    "df_train = df_train.dropna(subset=['review_text', 'class_index'])\n",
    "\n",
    "# fill missing titles with empty string\n",
    "df_train['review_title'] = df_train['review_title'].fillna(\"\")\n",
    "df_test['review_title'] = df_test['review_title'].fillna(\"\")\n",
    "\n",
    "\n",
    "# Combine title and text into one column\n",
    "df_train['text'] = df_train['review_title'] + \": \" + df_train['review_text']\n",
    "df_test['text'] = df_test['review_title'] + \": \" + df_test['review_text']\n",
    "\n",
    "# Basic text cleaning function\n",
    "def clean_text(text):\n",
    "    text = text.lower()\n",
    "    text = re.sub(r\"http\\S+\", \"\", text)  # remove URLs\n",
    "    text = re.sub(r\"[^a-z0-9\\s]\", \"\", text)  # remove punctuation\n",
    "    text = re.sub(r\"\\s+\", \" \", text).strip()  # remove extra spaces\n",
    "    return text\n",
    "\n",
    "# Apply cleaning\n",
    "df_train['clean_text'] = df_train['text'].apply(clean_text)\n",
    "df_test['clean_text'] = df_test['text'].apply(clean_text)\n"
   ]
  },
  {
   "cell_type": "code",
   "execution_count": 130,
   "id": "124a896c",
   "metadata": {},
   "outputs": [],
   "source": [
    "# drop review_title and review_text and text\n",
    "df_train = df_train.drop(columns=['review_title', 'review_text', 'text'])\n",
    "df_test = df_test.drop(columns=['review_title', 'review_text', 'text'])\n",
    "\n",
    "# rename class_index to label and clean_text to text\n",
    "df_train = df_train.rename(columns={'class_index': 'label', 'clean_text': 'text'})\n",
    "df_test = df_test.rename(columns={'class_index': 'label', 'clean_text': 'text'})"
   ]
  },
  {
   "cell_type": "code",
   "execution_count": 131,
   "id": "0db305d8",
   "metadata": {},
   "outputs": [],
   "source": [
    "# convert all labels to int and text to str\n",
    "df_train['label'] = df_train['label'].astype(int)\n",
    "df_test['label'] = df_test['label'].astype(int)\n",
    "\n",
    "df_train['text'] = df_train['text'].astype(str)\n",
    "df_test['text'] = df_test['text'].astype(str)"
   ]
  },
  {
   "cell_type": "markdown",
   "id": "19009990",
   "metadata": {},
   "source": [
    "Converted all the contexts into strings and all labels into integers to improve the robustness"
   ]
  },
  {
   "cell_type": "markdown",
   "id": "8bae28df",
   "metadata": {},
   "source": [
    "Investigated the missing values, and replaces missing values with empty strings to overcome errors when modeling, and performed some basic cleanings like punctuations, extra spaces and URLS removals."
   ]
  },
  {
   "cell_type": "code",
   "execution_count": 132,
   "id": "6105c231",
   "metadata": {},
   "outputs": [
    {
     "name": "stdout",
     "output_type": "stream",
     "text": [
      "Max length of clean_text in train: 441\n"
     ]
    }
   ],
   "source": [
    "# find the length of longest review_text\n",
    "def find_max_length(df, column):\n",
    "    max_length = df[column].apply(lambda x: len(re.findall(r'\\w+', x))).max()\n",
    "    return max_length\n",
    "max_length_train_clean_text = find_max_length(df_train, 'text')\n",
    "print(f\"Max length of clean_text in train: {max_length_train_clean_text}\")"
   ]
  },
  {
   "cell_type": "markdown",
   "id": "cab24c01",
   "metadata": {},
   "source": [
    "Therefore minimum 512 length of context window is required in our transformer to process each datapoint alone"
   ]
  },
  {
   "cell_type": "code",
   "execution_count": 133,
   "id": "ad8c80fe",
   "metadata": {},
   "outputs": [
    {
     "data": {
      "image/png": "[encoded data removed]",
      "text/plain": [
       "<Figure size 640x480 with 1 Axes>"
      ]
     },
     "metadata": {},
     "output_type": "display_data"
    }
   ],
   "source": [
    "df_train['label'].value_counts().plot(kind='bar', title='Sentiment Distribution')\n",
    "plt.show()\n"
   ]
  },
  {
   "cell_type": "markdown",
   "id": "99fc9031",
   "metadata": {},
   "source": [
    "The dataset consists of review scores, which is 5 different values form 1-5, 5 is the best. And those are well distributed closely 20% percent for each level"
   ]
  },
  {
   "cell_type": "markdown",
   "id": "efce630b",
   "metadata": {},
   "source": [
    "### Transform the Dataset into sentiments"
   ]
  },
  {
   "cell_type": "markdown",
   "id": "08efe282",
   "metadata": {},
   "source": [
    "As mentioned earlier, the goal is to get highlevel understanding, therefore the 5 classes reduced to 3 classes based on sentiments. "
   ]
  },
  {
   "cell_type": "code",
   "execution_count": 134,
   "id": "cb00f0dc",
   "metadata": {},
   "outputs": [
    {
     "data": {
      "image/png": "[encoded data removed]",
      "text/plain": [
       "<Figure size 640x480 with 1 Axes>"
      ]
     },
     "metadata": {},
     "output_type": "display_data"
    }
   ],
   "source": [
    "# label 1,2 as positive, 3 as neutral, and 4,5 as negative \n",
    "\"\"\"\n",
    "    1: negative -> 0\n",
    "    2: negative -> 0\n",
    "    3: neutral -> 1\n",
    "    4: positive -> 2\n",
    "    5: positive -> 2\n",
    "\"\"\"\n",
    "# \n",
    "def map_labels(label):\n",
    "    if label in [4, 5]:\n",
    "        return 2  # positive\n",
    "    elif label == 3:\n",
    "        return 1  # neutral\n",
    "    else:\n",
    "        return 0  # negative\n",
    "df_train['label'] = df_train['label'].map(map_labels)\n",
    "df_test['label'] = df_test['label'].map(map_labels)\n",
    "# Check the new distribution\n",
    "df_train['label'].value_counts(normalize=True).plot(kind='bar', title='Sentiment Distribution')\n",
    "plt.show()"
   ]
  },
  {
   "cell_type": "markdown",
   "id": "3d622ad3",
   "metadata": {},
   "source": [
    "Transforemd distribution seems unbalanced, which can lead to the model to biases results, therefore we cut down the positives and negatives by 50%\n",
    "Eventhough the 50% is large portion, still we have 1.8 million data points which is feasible amount to fine tune a language model"
   ]
  },
  {
   "cell_type": "code",
   "execution_count": 135,
   "id": "1e8906f6",
   "metadata": {},
   "outputs": [
    {
     "name": "stdout",
     "output_type": "stream",
     "text": [
      "Train class distribution:\n",
      "label\n",
      "2    1200000\n",
      "0    1200000\n",
      "1     600000\n",
      "Name: count, dtype: int64\n",
      "Test class distribution:\n",
      "label\n",
      "0    260000\n",
      "2    260000\n",
      "1    130000\n",
      "Name: count, dtype: int64\n"
     ]
    }
   ],
   "source": [
    "# print n of rows in each class in train and test\n",
    "print(\"Train class distribution:\")\n",
    "print(df_train['label'].value_counts())\n",
    "print(\"Test class distribution:\")\n",
    "print(df_test['label'].value_counts())"
   ]
  },
  {
   "cell_type": "code",
   "execution_count": 136,
   "id": "c01fea74",
   "metadata": {},
   "outputs": [
    {
     "data": {
      "image/png": "[encoded data removed]",
      "text/plain": [
       "<Figure size 640x480 with 1 Axes>"
      ]
     },
     "metadata": {},
     "output_type": "display_data"
    }
   ],
   "source": [
    "# make label 1 randomly 600000 and -1 randomly 600000\n",
    "df_train_pos = df_train[df_train['label'] == 2].sample(n=600000, random_state=42)\n",
    "df_train_neg = df_train[df_train['label'] == 0].sample(n=600000, random_state=42)\n",
    "df_train_neutral = df_train[df_train['label'] == 1]\n",
    "df_train = pd.concat([df_train_pos, df_train_neg, df_train_neutral])\n",
    "# Check the new distribution\n",
    "df_train['label'].value_counts(normalize=True).plot(kind='bar', title='Sentiment Distribution')\n",
    "plt.show()"
   ]
  },
  {
   "cell_type": "code",
   "execution_count": 137,
   "id": "0ae08ffa",
   "metadata": {},
   "outputs": [],
   "source": [
    "# make label 1 randomly 600000 and -1 randomly 600000\n",
    "df_test_pos = df_test[df_test['label'] == 2].sample(n=130000, random_state=42)\n",
    "df_test_neg = df_test[df_test['label'] == 0].sample(n=130000, random_state=42)\n",
    "df_test_neutral = df_test[df_test['label'] == 1]\n",
    "df_test = pd.concat([df_test_pos, df_test_neg, df_test_neutral])"
   ]
  },
  {
   "cell_type": "code",
   "execution_count": 138,
   "id": "9ea5c903",
   "metadata": {},
   "outputs": [
    {
     "name": "stdout",
     "output_type": "stream",
     "text": [
      "Train class distribution:\n",
      "label\n",
      "2    600000\n",
      "0    600000\n",
      "1    600000\n",
      "Name: count, dtype: int64\n",
      "Test class distribution:\n",
      "label\n",
      "2    130000\n",
      "0    130000\n",
      "1    130000\n",
      "Name: count, dtype: int64\n"
     ]
    }
   ],
   "source": [
    "# print n of rows in each class in train and test\n",
    "print(\"Train class distribution:\")\n",
    "print(df_train['label'].value_counts())\n",
    "print(\"Test class distribution:\")\n",
    "print(df_test['label'].value_counts())"
   ]
  },
  {
   "cell_type": "markdown",
   "id": "ac7508a8",
   "metadata": {},
   "source": [
    "Finally we have obtained very balanced test and train dataset for out training and validation. We save these dataset as csv file which is convinient for further steps."
   ]
  },
  {
   "cell_type": "code",
   "execution_count": 139,
   "id": "cc75d79a",
   "metadata": {},
   "outputs": [],
   "source": [
    "# save the dataframes to csv\n",
    "df_train.to_csv('train.csv', index=False)\n",
    "df_test.to_csv('test.csv', index=False)"
   ]
  },
  {
   "cell_type": "markdown",
   "id": "f2823d7e",
   "metadata": {},
   "source": [
    "## Try BERT based classification model to classify amazon reviews"
   ]
  },
  {
   "cell_type": "markdown",
   "id": "4d35cad0",
   "metadata": {},
   "source": [
    "### 🧠 Why BERT?"
   ]
  },
  {
   "cell_type": "markdown",
   "id": "e1a3f79c",
   "metadata": {},
   "source": [
    "BERT is a transformer architecture which is trained on large text corpus, however the archotecture is special. The attention layers are not causal attention. They measure the connection within all input tokens in both direction (Bi-direction)\n",
    "Therefore, this type of architectures are used to represent the text sequences than generative tasks. And these models are much popular with fine tuning for downstream tasks. As this models have already embedded with some knowledge, so by using task specific head such as classification, we can easily obtain better performance."
   ]
  },
  {
   "cell_type": "markdown",
   "id": "2e072a55",
   "metadata": {},
   "source": [
    "In our particular case, we are classifying the text sequences into sentiments, therefore buy using 3 class classification head on top of the encoder layer would be sufficient."
   ]
  },
  {
   "cell_type": "code",
   "execution_count": 6,
   "id": "f1f14581",
   "metadata": {},
   "outputs": [
    {
     "name": "stdout",
     "output_type": "stream",
     "text": [
      "BertModel(\n",
      "  (embeddings): BertEmbeddings(\n",
      "    (word_embeddings): Embedding(30522, 768, padding_idx=0)\n",
      "    (position_embeddings): Embedding(512, 768)\n",
      "    (token_type_embeddings): Embedding(2, 768)\n",
      "    (LayerNorm): LayerNorm((768,), eps=1e-12, elementwise_affine=True)\n",
      "    (dropout): Dropout(p=0.1, inplace=False)\n",
      "  )\n",
      "  (encoder): BertEncoder(\n",
      "    (layer): ModuleList(\n",
      "      (0-11): 12 x BertLayer(\n",
      "        (attention): BertAttention(\n",
      "          (self): BertSelfAttention(\n",
      "            (query): Linear(in_features=768, out_features=768, bias=True)\n",
      "            (key): Linear(in_features=768, out_features=768, bias=True)\n",
      "            (value): Linear(in_features=768, out_features=768, bias=True)\n",
      "            (dropout): Dropout(p=0.1, inplace=False)\n",
      "          )\n",
      "          (output): BertSelfOutput(\n",
      "            (dense): Linear(in_features=768, out_features=768, bias=True)\n",
      "            (LayerNorm): LayerNorm((768,), eps=1e-12, elementwise_affine=True)\n",
      "            (dropout): Dropout(p=0.1, inplace=False)\n",
      "          )\n",
      "        )\n",
      "        (intermediate): BertIntermediate(\n",
      "          (dense): Linear(in_features=768, out_features=3072, bias=True)\n",
      "          (intermediate_act_fn): GELUActivation()\n",
      "        )\n",
      "        (output): BertOutput(\n",
      "          (dense): Linear(in_features=3072, out_features=768, bias=True)\n",
      "          (LayerNorm): LayerNorm((768,), eps=1e-12, elementwise_affine=True)\n",
      "          (dropout): Dropout(p=0.1, inplace=False)\n",
      "        )\n",
      "      )\n",
      "    )\n",
      "  )\n",
      "  (pooler): BertPooler(\n",
      "    (dense): Linear(in_features=768, out_features=768, bias=True)\n",
      "    (activation): Tanh()\n",
      "  )\n",
      ")\n"
     ]
    }
   ],
   "source": [
    "from transformers import BertModel, BertTokenizer\n",
    "bert = BertModel.from_pretrained(\"bert-base-uncased\")\n",
    "print(bert)"
   ]
  },
  {
   "cell_type": "markdown",
   "id": "ebd82dd5",
   "metadata": {},
   "source": [
    "Based on the model configs and the architecture there are few observations.\n",
    "1. the embedding lookup table is 30522x768, which means this accepts 50265 of discrete tokens and embedded them with the 768 vector.\n",
    "2. Max poisitional embedding is 512, therefore it implies that the maximum input tokens is 512 for the model, at least for the existing traiing configs it followed.\n",
    "3. 12 encoder transformer blocks which transform the input embeddings through 12 levels\n"
   ]
  },
  {
   "cell_type": "markdown",
   "id": "32f42f9b",
   "metadata": {},
   "source": [
    "To input the raw data into model, we need to use a tokenizer to represent our natural language inputs by integer. In BERT, they use particular encoding which is converting the input text into integers of discrete set.\n",
    "So after taking the raw text, the tokenizer outputs the sequence of integers, which become thr input to the Language Model"
   ]
  },
  {
   "cell_type": "code",
   "execution_count": 8,
   "id": "870719f4",
   "metadata": {},
   "outputs": [
    {
     "data": {
      "text/plain": [
       "{'input_ids': [101, 7592, 2088, 102], 'token_type_ids': [0, 0, 0, 0], 'attention_mask': [1, 1, 1, 1]}"
      ]
     },
     "execution_count": 8,
     "metadata": {},
     "output_type": "execute_result"
    }
   ],
   "source": [
    "tokenizer = BertTokenizer.from_pretrained(\"bert-base-uncased\")\n",
    "tokenizer(\"Hello world\")"
   ]
  },
  {
   "cell_type": "markdown",
   "id": "b8fd5085",
   "metadata": {},
   "source": [
    "In this assignment, we do not initiate all the parameters (weights) of the models.\n",
    "\n",
    "But we train the model on top of existing weights while adding a classification linear layer on hidden outputs.\n"
   ]
  },
  {
   "cell_type": "code",
   "execution_count": 9,
   "id": "5fcc1f33",
   "metadata": {},
   "outputs": [
    {
     "data": {
      "text/plain": [
       "(tensor([[  101,  7592,  1010,  2026,  3899,  2003, 10140,   102]]),\n",
       " torch.Size([1, 8]))"
      ]
     },
     "execution_count": 9,
     "metadata": {},
     "output_type": "execute_result"
    }
   ],
   "source": [
    "import torch\n",
    "inputs = tokenizer(\"Hello, my dog is cute\", return_tensors=\"pt\")\n",
    "inputs.input_ids, inputs.input_ids.shape"
   ]
  },
  {
   "cell_type": "markdown",
   "id": "d58c9dcd",
   "metadata": {},
   "source": [
    "We convert the integer list intp pytorch tensor, as the model is built with pytorch and those accepts only tensor inputs.\n",
    "Tensors are similar to multi deimensional arrays, which are optimized for numerical methods and gpu"
   ]
  },
  {
   "cell_type": "code",
   "execution_count": 24,
   "id": "9663f441",
   "metadata": {},
   "outputs": [
    {
     "name": "stdout",
     "output_type": "stream",
     "text": [
      "Number of parameters: 109482240M\n"
     ]
    }
   ],
   "source": [
    "# n of paramas\n",
    "print(f\"Number of parameters: {bert.num_parameters()}M\")\n",
    "outputs = bert(**inputs)\n"
   ]
  },
  {
   "cell_type": "markdown",
   "id": "a2fe9987",
   "metadata": {},
   "source": [
    "We can see the bert model already has 109.48 parameters. "
   ]
  },
  {
   "cell_type": "code",
   "execution_count": 14,
   "id": "eaaea2b0",
   "metadata": {},
   "outputs": [
    {
     "name": "stdout",
     "output_type": "stream",
     "text": [
      "Last hidden state shape: torch.Size([1, 8, 768])\n",
      "Pooler output shape: torch.Size([1, 768])\n"
     ]
    }
   ],
   "source": [
    "last_hidden_state_shape = outputs.last_hidden_state.shape\n",
    "pooler_output_shape = outputs.pooler_output.shape\n",
    "print(f\"Last hidden state shape: {last_hidden_state_shape}\")\n",
    "print(f\"Pooler output shape: {pooler_output_shape}\")"
   ]
  },
  {
   "cell_type": "markdown",
   "id": "6223d5ed",
   "metadata": {},
   "source": [
    "As we can see the models final layers, the hidden states are one hidden state representation for each input token,\n",
    "and the pooler output is the first hidden state vector."
   ]
  },
  {
   "cell_type": "markdown",
   "id": "21e50e7a",
   "metadata": {},
   "source": [
    "In this assignment we are planning to use the pooler and also differnt pooling stategies like mean/max and finally we may plan to compare the results."
   ]
  },
  {
   "cell_type": "markdown",
   "id": "fc252d91",
   "metadata": {},
   "source": [
    "### Import Libraries"
   ]
  },
  {
   "cell_type": "code",
   "execution_count": 11,
   "id": "25d3b2c7",
   "metadata": {},
   "outputs": [],
   "source": [
    "import torch\n",
    "import torch.nn as nn\n",
    "import torch.optim as optim\n",
    "from torch.utils.data import DataLoader, Dataset\n",
    "from transformers import BertModel, BertTokenizer, get_linear_schedule_with_warmup\n",
    "import pandas as pd\n",
    "import numpy as np\n",
    "from sklearn.model_selection import train_test_split\n",
    "from sklearn.metrics import accuracy_score, precision_recall_fscore_support\n",
    "import random"
   ]
  },
  {
   "cell_type": "code",
   "execution_count": 12,
   "id": "bc5b59a1",
   "metadata": {},
   "outputs": [],
   "source": [
    "# Set random seeds for reproducibility\n",
    "def set_seed(seed_value):\n",
    "    random.seed(seed_value)\n",
    "    np.random.seed(seed_value)\n",
    "    torch.manual_seed(seed_value)\n",
    "    if torch.cuda.is_available():\n",
    "        torch.cuda.manual_seed_all(seed_value)\n",
    "\n",
    "set_seed(42)"
   ]
  },
  {
   "cell_type": "markdown",
   "id": "ee3144e1",
   "metadata": {},
   "source": [
    "### Dataset Class"
   ]
  },
  {
   "cell_type": "markdown",
   "id": "4b29e07b",
   "metadata": {},
   "source": [
    "To train the model (the prediction head) we need to input the traininig data we have in an efficient way. So that we use pytorch inherent Dataset class and build out loaders"
   ]
  },
  {
   "cell_type": "code",
   "execution_count": 15,
   "id": "deaed4ed",
   "metadata": {},
   "outputs": [],
   "source": [
    "class FinancialSentimentDataset(Dataset):\n",
    "    \"\"\"Dataset for financial sentiment analysis.\"\"\"\n",
    "    \n",
    "    def __init__(self, texts, labels, tokenizer, max_length=512):\n",
    "        self.texts = texts\n",
    "        self.labels = labels\n",
    "        self.tokenizer = tokenizer\n",
    "        self.max_length = max_length\n",
    "    \n",
    "    def __len__(self):\n",
    "        return len(self.texts)\n",
    "    \n",
    "    def __getitem__(self, idx):\n",
    "        text = self.texts[idx]\n",
    "        label = self.labels[idx]\n",
    "        \n",
    "        # Tokenize the text\n",
    "        encoding = self.tokenizer(\n",
    "            text,\n",
    "            add_special_tokens=True,\n",
    "            max_length=self.max_length,\n",
    "            padding='max_length',\n",
    "            truncation=True,\n",
    "            return_attention_mask=True,\n",
    "            return_tensors='pt'\n",
    "        )\n",
    "        \n",
    "        # Remove batch dimension added by tokenizer\n",
    "        input_ids = encoding['input_ids'].squeeze()\n",
    "        attention_mask = encoding['attention_mask'].squeeze()\n",
    "        \n",
    "        return {\n",
    "            'input_ids': input_ids,\n",
    "            'attention_mask': attention_mask,\n",
    "            'label': torch.tensor(label, dtype=torch.long)\n",
    "        }"
   ]
  },
  {
   "cell_type": "markdown",
   "id": "e912b7af",
   "metadata": {},
   "source": [
    "### Model Definition"
   ]
  },
  {
   "cell_type": "code",
   "execution_count": 16,
   "id": "c0a7753b",
   "metadata": {},
   "outputs": [],
   "source": [
    "class BERTSentimentClassifier(nn.Module):\n",
    "    \"\"\"BERT model for sentiment classification.\"\"\"\n",
    "    \n",
    "    def __init__(self, bert_model_name, num_classes, dropout_prob=0.1):\n",
    "        super(BERTSentimentClassifier, self).__init__()\n",
    "        # Load pre-trained BERT model\n",
    "        self.bert = BertModel.from_pretrained(bert_model_name)\n",
    "        \n",
    "        # Get the hidden size from the BERT config\n",
    "        hidden_size = self.bert.config.hidden_size\n",
    "        \n",
    "        # Create classification head\n",
    "        self.dropout = nn.Dropout(dropout_prob)\n",
    "        self.classifier = nn.Linear(hidden_size, num_classes)\n",
    "    \n",
    "    def forward(self, input_ids, attention_mask):\n",
    "        # Pass inputs through BERT\n",
    "        outputs = self.bert(\n",
    "            input_ids=input_ids,\n",
    "            attention_mask=attention_mask\n",
    "        )\n",
    "        \n",
    "        # Get the [CLS] token representation (first token)\n",
    "        pooled_output = outputs.pooler_output\n",
    "        \n",
    "        # Apply dropout\n",
    "        pooled_output = self.dropout(pooled_output)\n",
    "        \n",
    "        # Pass through the classifier\n",
    "        logits = self.classifier(pooled_output)\n",
    "        \n",
    "        return logits"
   ]
  },
  {
   "cell_type": "code",
   "execution_count": 18,
   "id": "03bd13de",
   "metadata": {},
   "outputs": [
    {
     "name": "stdout",
     "output_type": "stream",
     "text": [
      "BERTSentimentClassifier(\n",
      "  (bert): BertModel(\n",
      "    (embeddings): BertEmbeddings(\n",
      "      (word_embeddings): Embedding(30522, 768, padding_idx=0)\n",
      "      (position_embeddings): Embedding(512, 768)\n",
      "      (token_type_embeddings): Embedding(2, 768)\n",
      "      (LayerNorm): LayerNorm((768,), eps=1e-12, elementwise_affine=True)\n",
      "      (dropout): Dropout(p=0.1, inplace=False)\n",
      "    )\n",
      "    (encoder): BertEncoder(\n",
      "      (layer): ModuleList(\n",
      "        (0-11): 12 x BertLayer(\n",
      "          (attention): BertAttention(\n",
      "            (self): BertSelfAttention(\n",
      "              (query): Linear(in_features=768, out_features=768, bias=True)\n",
      "              (key): Linear(in_features=768, out_features=768, bias=True)\n",
      "              (value): Linear(in_features=768, out_features=768, bias=True)\n",
      "              (dropout): Dropout(p=0.1, inplace=False)\n",
      "            )\n",
      "            (output): BertSelfOutput(\n",
      "              (dense): Linear(in_features=768, out_features=768, bias=True)\n",
      "              (LayerNorm): LayerNorm((768,), eps=1e-12, elementwise_affine=True)\n",
      "              (dropout): Dropout(p=0.1, inplace=False)\n",
      "            )\n",
      "          )\n",
      "          (intermediate): BertIntermediate(\n",
      "            (dense): Linear(in_features=768, out_features=3072, bias=True)\n",
      "            (intermediate_act_fn): GELUActivation()\n",
      "          )\n",
      "          (output): BertOutput(\n",
      "            (dense): Linear(in_features=3072, out_features=768, bias=True)\n",
      "            (LayerNorm): LayerNorm((768,), eps=1e-12, elementwise_affine=True)\n",
      "            (dropout): Dropout(p=0.1, inplace=False)\n",
      "          )\n",
      "        )\n",
      "      )\n",
      "    )\n",
      "    (pooler): BertPooler(\n",
      "      (dense): Linear(in_features=768, out_features=768, bias=True)\n",
      "      (activation): Tanh()\n",
      "    )\n",
      "  )\n",
      "  (dropout): Dropout(p=0.1, inplace=False)\n",
      "  (classifier): Linear(in_features=768, out_features=3, bias=True)\n",
      ")\n"
     ]
    }
   ],
   "source": [
    "our_model = BERTSentimentClassifier(bert_model_name=\"bert-base-uncased\", num_classes=3)\n",
    "# Check the model architecture\n",
    "print(our_model)"
   ]
  },
  {
   "cell_type": "markdown",
   "id": "0b2c793d",
   "metadata": {},
   "source": [
    "  (dropout): Dropout(p=0.1, inplace=False)\n",
    "  (classifier): Linear(in_features=768, out_features=3, bias=True)\n",
    "\n",
    "Now it is clear that there is another layer to classify with initialized weights."
   ]
  },
  {
   "cell_type": "code",
   "execution_count": 23,
   "id": "894cb5e9",
   "metadata": {},
   "outputs": [
    {
     "name": "stdout",
     "output_type": "stream",
     "text": [
      "Number of trainable parameters: 109484547\n"
     ]
    }
   ],
   "source": [
    "# n of params\n",
    "n_params = sum(p.numel() for p in our_model.parameters() if p.requires_grad)\n",
    "print(f\"Number of trainable parameters: {n_params}\")"
   ]
  },
  {
   "cell_type": "markdown",
   "id": "35cf4bb3",
   "metadata": {},
   "source": [
    "There is a slight increase in the number of parameters including the head compared to original model"
   ]
  },
  {
   "cell_type": "markdown",
   "id": "dd310665",
   "metadata": {},
   "source": [
    "### Data Preparation"
   ]
  },
  {
   "cell_type": "markdown",
   "id": "8a8877fd",
   "metadata": {},
   "source": [
    "This will load the save csv files and open as pandas dataframes"
   ]
  },
  {
   "cell_type": "code",
   "execution_count": null,
   "id": "70346de4",
   "metadata": {},
   "outputs": [],
   "source": [
    "def prepare_data(train_path, test_path=None, test_size=0.2, random_state=42):\n",
    "    \"\"\"Load and prepare the dataset from CSV files.\"\"\"\n",
    "    \n",
    "    # Load training data\n",
    "    df_train = pd.read_csv(train_path)\n",
    "    \n",
    "    if test_path:\n",
    "        df_test = pd.read_csv(test_path)\n",
    "    else:\n",
    "        df_train, df_test = train_test_split(\n",
    "            df_train, \n",
    "            test_size=test_size, \n",
    "            random_state=random_state,\n",
    "            stratify=df_train['label'] if 'label' in df_train.columns else None\n",
    "        )\n",
    "    \n",
    "    print(f\"Train samples: {len(df_train)}\")\n",
    "    print(f\"Test samples: {len(df_test)}\")\n",
    "    \n",
    "    # Show label distribution\n",
    "    print(\"Label distribution in training data:\")\n",
    "    print(df_train['label'].value_counts())\n",
    "    \n",
    "    return df_train, df_test"
   ]
  },
  {
   "cell_type": "markdown",
   "id": "020e8139",
   "metadata": {},
   "source": [
    "### Create Data Loaders"
   ]
  },
  {
   "cell_type": "markdown",
   "id": "26cbcebb",
   "metadata": {},
   "source": [
    "This will create dataloaders for train and validation using the imported data and dataloader classes we created."
   ]
  },
  {
   "cell_type": "code",
   "execution_count": null,
   "id": "d2755945",
   "metadata": {},
   "outputs": [],
   "source": [
    "def create_data_loaders(train_df, val_df, tokenizer, batch_size=32, max_length=512):\n",
    "    \"\"\"Create DataLoader objects for training and validation.\"\"\"\n",
    "    \n",
    "    # Create datasets\n",
    "    train_dataset = FinancialSentimentDataset(\n",
    "        texts=train_df['text'].tolist(),\n",
    "        labels=train_df['label'].tolist(),\n",
    "        tokenizer=tokenizer,\n",
    "        max_length=max_length\n",
    "    )\n",
    "    \n",
    "    val_dataset = FinancialSentimentDataset(\n",
    "        texts=val_df['text'].tolist(),\n",
    "        labels=val_df['label'].tolist(),\n",
    "        tokenizer=tokenizer,\n",
    "        max_length=max_length\n",
    "    )\n",
    "    \n",
    "    # Create data loaders\n",
    "    train_dataloader = DataLoader(\n",
    "        train_dataset,\n",
    "        batch_size=batch_size,\n",
    "        shuffle=True,\n",
    "    )\n",
    "    \n",
    "    val_dataloader = DataLoader(\n",
    "        val_dataset,\n",
    "        batch_size=batch_size,\n",
    "        shuffle=False,\n",
    "    )\n",
    "    \n",
    "    return train_dataloader, val_dataloader"
   ]
  },
  {
   "cell_type": "markdown",
   "id": "db520a1f",
   "metadata": {},
   "source": [
    "### Training Function"
   ]
  },
  {
   "cell_type": "markdown",
   "id": "6e4337b5",
   "metadata": {},
   "source": [
    "Below is the training function used to train the model."
   ]
  },
  {
   "cell_type": "code",
   "execution_count": null,
   "id": "79676854",
   "metadata": {},
   "outputs": [],
   "source": [
    "def train_model(model, train_dataloader, val_dataloader, optimizer, scheduler, device, num_epochs=3):\n",
    "    \"\"\"Train the model and evaluate on validation set.\"\"\"\n",
    "    \n",
    "    # Loss function\n",
    "    criterion = nn.CrossEntropyLoss()\n",
    "    \n",
    "    # For tracking best model\n",
    "    best_val_f1 = 0\n",
    "    best_model_state = None\n",
    "    \n",
    "    # Training loop\n",
    "    for epoch in range(num_epochs):\n",
    "        print(f\"\\n{'='*20} Epoch {epoch+1}/{num_epochs} {'='*20}\\n\")\n",
    "        \n",
    "        # Training phase\n",
    "        model.train()\n",
    "        total_train_loss = 0\n",
    "        \n",
    "        for batch in train_dataloader:\n",
    "            # Move batch to device\n",
    "            input_ids = batch['input_ids'].to(device)\n",
    "            attention_mask = batch['attention_mask'].to(device)\n",
    "            labels = batch['label'].to(device)\n",
    "            \n",
    "            # Clear previous gradients\n",
    "            optimizer.zero_grad()\n",
    "            \n",
    "            # Forward pass\n",
    "            logits = model(input_ids, attention_mask)\n",
    "            loss = criterion(logits, labels)\n",
    "            \n",
    "            # Backward pass and optimization\n",
    "            loss.backward()\n",
    "            torch.nn.utils.clip_grad_norm_(model.parameters(), max_norm=1.0)  # Gradient clipping\n",
    "            optimizer.step()\n",
    "            scheduler.step()  \n",
    "            \n",
    "            # Update total loss\n",
    "            total_train_loss += loss.item()\n",
    "        \n",
    "        # Calculate average training loss\n",
    "        avg_train_loss = total_train_loss / len(train_dataloader)\n",
    "        print(f\"Average training loss: {avg_train_loss:.4f}\")\n",
    "        \n",
    "        # Validation phase\n",
    "        model.eval()\n",
    "        val_loss, accuracy, precision, recall, f1 = evaluate_model(\n",
    "            model, val_dataloader, criterion, device\n",
    "        )\n",
    "        \n",
    "        print(f\"Validation Results:\")\n",
    "        print(f\"Loss: {val_loss:.4f}\")\n",
    "        print(f\"Accuracy: {accuracy:.4f}\")\n",
    "        print(f\"Precision: {precision:.4f}\")\n",
    "        print(f\"Recall: {recall:.4f}\")\n",
    "        print(f\"F1 Score: {f1:.4f}\")\n",
    "        \n",
    "        # Save best model\n",
    "        if f1 > best_val_f1:\n",
    "            best_val_f1 = f1\n",
    "            best_model_state = model.state_dict().copy()\n",
    "            print(f\"Saved best model with F1 Score: {f1:.4f}\")\n",
    "    \n",
    "    # Load best model state\n",
    "    if best_model_state is not None:\n",
    "        model.load_state_dict(best_model_state)\n",
    "    \n",
    "    return model"
   ]
  },
  {
   "cell_type": "markdown",
   "id": "1370908d",
   "metadata": {},
   "source": [
    "### Evaluation Function"
   ]
  },
  {
   "cell_type": "markdown",
   "id": "3113aed7",
   "metadata": {},
   "source": [
    "This function is used to evaluate the model during the training after each epoch, as well as after training the model."
   ]
  },
  {
   "cell_type": "code",
   "execution_count": null,
   "id": "e591db07",
   "metadata": {},
   "outputs": [],
   "source": [
    "def evaluate_model(model, dataloader, criterion, device):\n",
    "    \"\"\"Evaluate the model on the given dataloader.\"\"\"\n",
    "    \n",
    "    model.eval()\n",
    "    total_loss = 0\n",
    "    all_preds = []\n",
    "    all_labels = []\n",
    "    \n",
    "    # No gradient calculation during validation\n",
    "    with torch.no_grad():\n",
    "        for batch in dataloader:\n",
    "            # Move batch to device\n",
    "            input_ids = batch['input_ids'].to(device)\n",
    "            attention_mask = batch['attention_mask'].to(device)\n",
    "            labels = batch['label'].to(device)\n",
    "            \n",
    "            # Forward pass\n",
    "            logits = model(input_ids, attention_mask)\n",
    "            loss = criterion(logits, labels)\n",
    "            \n",
    "            # Update total loss\n",
    "            total_loss += loss.item()\n",
    "            \n",
    "            # Get predictions\n",
    "            preds = torch.argmax(logits, dim=1).cpu().numpy()\n",
    "            all_preds.extend(preds)\n",
    "            all_labels.extend(labels.cpu().numpy())\n",
    "    \n",
    "    # Calculate average loss\n",
    "    avg_loss = total_loss / len(dataloader)\n",
    "    \n",
    "    # Calculate metrics\n",
    "    accuracy = accuracy_score(all_labels, all_preds)\n",
    "    precision, recall, f1, _ = precision_recall_fscore_support(\n",
    "        all_labels, all_preds, average='weighted'\n",
    "    )\n",
    "    \n",
    "    return avg_loss, accuracy, precision, recall, f1"
   ]
  },
  {
   "cell_type": "markdown",
   "id": "9967a148",
   "metadata": {},
   "source": [
    "### Predict Sentiments"
   ]
  },
  {
   "cell_type": "markdown",
   "id": "3d937f50",
   "metadata": {},
   "source": [
    "This function will predict the exact label for the given input, will be also used in the evaluaitons and visualizations."
   ]
  },
  {
   "cell_type": "code",
   "execution_count": null,
   "id": "35d6c38c",
   "metadata": {},
   "outputs": [],
   "source": [
    "def predict_sentiment(model, tokenizer, texts, device, max_length=512, batch_size=32):\n",
    "    \"\"\"Predict sentiment for the given texts.\"\"\"\n",
    "    \n",
    "    model.eval()\n",
    "    results = []\n",
    "    \n",
    "    # Convert single text to list\n",
    "    if isinstance(texts, str):\n",
    "        texts = [texts]\n",
    "    \n",
    "    # Process in batches\n",
    "    for i in range(0, len(texts), batch_size):\n",
    "        batch_texts = texts[i:i+batch_size]\n",
    "        \n",
    "        # Tokenize\n",
    "        encodings = tokenizer(\n",
    "            batch_texts,\n",
    "            add_special_tokens=True,\n",
    "            max_length=max_length,\n",
    "            padding='max_length',\n",
    "            truncation=True,\n",
    "            return_attention_mask=True,\n",
    "            return_tensors='pt'\n",
    "        )\n",
    "        \n",
    "        # Move to device\n",
    "        input_ids = encodings['input_ids'].to(device)\n",
    "        attention_mask = encodings['attention_mask'].to(device)\n",
    "        \n",
    "        # Get prediction\n",
    "        with torch.no_grad():\n",
    "            outputs = model(input_ids, attention_mask)\n",
    "            predictions = torch.argmax(outputs, dim=1).cpu().numpy()\n",
    "        \n",
    "        # Map predictions to sentiment labels\n",
    "        for j, text in enumerate(batch_texts):\n",
    "            sentiment = [\"Negative\", \"Neutral\", \"Positive\"][predictions[j]]\n",
    "            results.append({\n",
    "                'text': text,\n",
    "                'sentiment': sentiment,\n",
    "                'prediction_class': int(predictions[j])\n",
    "            })\n",
    "    \n",
    "    return results"
   ]
  },
  {
   "cell_type": "markdown",
   "id": "37a8a6c3",
   "metadata": {},
   "source": [
    "### Training Loop Run"
   ]
  },
  {
   "cell_type": "markdown",
   "id": "ae581107",
   "metadata": {},
   "source": [
    "Below the the example training loop which was used to train our model."
   ]
  },
  {
   "cell_type": "markdown",
   "id": "abeb80d7",
   "metadata": {},
   "source": [
    "### Training Setup and Resources Used\n",
    "\n",
    "Due to hardware limitations on my personal machine, I trained the model using GPU resources provided by **NTU MLDA**.\n",
    "\n",
    "To make training more efficient and scalable, I implemented several optimization strategies inspired by [Andrej Karpathy’s Reproduce GPT-2 video](https://www.youtube.com/watch?v=l8pRSuU81PU&t=12243s). I also received assistance from **Claude AI** for bug fixes and refinement.\n",
    "\n",
    "I avoid adding everything in the training loop in this notebook to make the space clear, However, the entire work and codebase is pushed to my github repository and made it private, so anyone can clone the repository and reoriduce the results.\n",
    "You can find the full training code and implementation on GitHub:\n",
    "\n",
    "👉 [Amazon-BERT GitHub Repository](https://github.com/Sachithx/Amazon-BERT.git)\n"
   ]
  },
  {
   "cell_type": "code",
   "execution_count": null,
   "id": "03bb9a91",
   "metadata": {},
   "outputs": [],
   "source": [
    "def main():\n",
    "    # Set device\n",
    "    device = torch.device(\"cuda\" if torch.cuda.is_available() else \"cpu\")\n",
    "    print(f\"Using device: {device}\")\n",
    "    \n",
    "    # Define hyperparameters\n",
    "    bert_model_name = \"bert-base-uncased\"\n",
    "    max_length = 512\n",
    "    batch_size = 32\n",
    "    num_epochs = 3\n",
    "    learning_rate = 2e-5\n",
    "    \n",
    "    # Load tokenizer\n",
    "    tokenizer = BertTokenizer.from_pretrained(bert_model_name)\n",
    "    \n",
    "    # Prepare data\n",
    "    train_df, val_df = prepare_data(\"train.csv\", \"test.csv\")\n",
    "    num_classes = len(train_df['label'].unique())\n",
    "    \n",
    "    # Create data loaders\n",
    "    train_dataloader, val_dataloader = create_data_loaders(\n",
    "        train_df, val_df, tokenizer, batch_size, max_length\n",
    "    )\n",
    "    \n",
    "    # Initialize model\n",
    "    model = BERTSentimentClassifier(bert_model_name, num_classes)\n",
    "    model.to(device)\n",
    "    \n",
    "    # Set up optimizer\n",
    "    optimizer = optim.AdamW(model.parameters(), lr=learning_rate)\n",
    "    \n",
    "    # Set up learning rate scheduler\n",
    "    total_steps = len(train_dataloader) * num_epochs\n",
    "    scheduler = get_linear_schedule_with_warmup(\n",
    "        optimizer,\n",
    "        num_warmup_steps=int(0.1 * total_steps),  # 10% warmup\n",
    "        num_training_steps=total_steps\n",
    "    )\n",
    "    \n",
    "    # Train model\n",
    "    model = train_model(\n",
    "        model, train_dataloader, val_dataloader, optimizer, scheduler, device, num_epochs\n",
    "    )\n",
    "    \n",
    "    # Test with some examples\n",
    "    test_texts = [\n",
    "        \"The company exceeded market expectations with record profits.\",\n",
    "        \"Shares tumbled 15% following disappointing quarterly results.\",\n",
    "        \"New regulations could pose significant challenges to revenue growth.\"\n",
    "    ]\n",
    "    \n",
    "    results = predict_sentiment(model, tokenizer, test_texts, device)\n",
    "    \n",
    "    print(\"\\nSentiment predictions:\")\n",
    "    for result in results:\n",
    "        print(f\"Text: {result['text']}\")\n",
    "        print(f\"Sentiment: {result['sentiment']}\")\n",
    "        print()\n",
    "\n",
    "if __name__ == \"__main__\":\n",
    "    main()"
   ]
  },
  {
   "cell_type": "markdown",
   "id": "64524cb9",
   "metadata": {},
   "source": [
    "## Training Stats and Evaluation Results"
   ]
  },
  {
   "cell_type": "markdown",
   "id": "abf83780",
   "metadata": {},
   "source": [
    "### Training Configuration & Hardware Setup\n",
    "\n",
    "To efficiently fine-tune the BERT model for Amazon review sentiment classification, the following training setup was used:\n",
    "\n",
    "#### Model & Training Parameters\n",
    "\n",
    "- **Model**: `bert-base-uncased`\n",
    "- **Maximum Sequence Length**: 512 tokens  \n",
    "- **Batch Size**: 64 (per GPU)\n",
    "- **Number of Epochs**: 50 (with early stopping) - I was able to train only for 3 epochs, stop as got some good accuracy and to save time\n",
    "- **Learning Rate**: 2e-5\n",
    "- **Weight Decay**: 0.01\n",
    "- **Warmup Ratio**: 10%\n",
    "- **Gradient Accumulation Steps**: 1\n",
    "- **Number of Data Loader Workers**: 2 (per GPU)\n",
    "- **Data Fraction**: 10% (subset used for quicker experimentation)\n",
    "- **Mixed Precision Training (AMP)**: Enabled \n",
    "\n",
    "#### Early Stopping Configuration\n",
    "\n",
    "- **Patience**: 5 epochs\n",
    "- **Delta Threshold**: 0.001\n",
    "- **Monitored Metric**: Accuracy\n",
    "- **Mode**: Max (higher accuracy = better)\n",
    "\n",
    "#### Hardware Used\n",
    "\n",
    "- Trained using NTU MLDA's GPU resources\n",
    "- Dual NVIDIA RTX A5000 GPUs for multi-GPU training\n",
    "\n",
    "This setup enabled faster experimentation and improved convergence thanks to multi-GPU acceleration and mixed precision optimization.\n"
   ]
  },
  {
   "cell_type": "code",
   "execution_count": 1,
   "id": "4d9a1fe4",
   "metadata": {},
   "outputs": [],
   "source": [
    "import os\n",
    "import time\n",
    "import torch\n",
    "import numpy as np\n",
    "import pandas as pd\n",
    "import matplotlib.pyplot as plt\n",
    "import seaborn as sns\n",
    "from sklearn.metrics import accuracy_score, precision_recall_fscore_support, confusion_matrix, classification_report\n",
    "from sklearn.metrics import roc_curve, auc, precision_recall_curve, average_precision_score\n",
    "from sklearn.preprocessing import label_binarize\n",
    "from torch.utils.data import DataLoader\n",
    "from transformers import BertTokenizer, BertModel, BertConfig\n",
    "import torch.nn as nn\n",
    "from tqdm.notebook import tqdm"
   ]
  },
  {
   "cell_type": "code",
   "execution_count": 2,
   "id": "124cdcfa",
   "metadata": {},
   "outputs": [],
   "source": [
    "class BERTSentimentClassifier(nn.Module):\n",
    "    def __init__(self, bert_model_name, num_classes, dropout_prob=0.1):\n",
    "        super(BERTSentimentClassifier, self).__init__()\n",
    "        config = BertConfig.from_pretrained(bert_model_name)\n",
    "        config.position_embedding_type = 'absolute'\n",
    "        self.bert = BertModel.from_pretrained(bert_model_name, config=config)\n",
    "        hidden_size = self.bert.config.hidden_size\n",
    "        self.dropout = nn.Dropout(dropout_prob)\n",
    "        self.classifier = nn.Linear(hidden_size, num_classes)\n",
    "    \n",
    "    def forward(self, input_ids, attention_mask, token_type_ids=None):\n",
    "        outputs = self.bert(input_ids=input_ids, attention_mask=attention_mask, token_type_ids=token_type_ids)\n",
    "        pooled_output = outputs.pooler_output\n",
    "        pooled_output = self.dropout(pooled_output)\n",
    "        return self.classifier(pooled_output)\n",
    "\n",
    "\n",
    "class FinancialSentimentDataset(torch.utils.data.Dataset):\n",
    "    def __init__(self, texts, labels, tokenizer, max_length=128):\n",
    "        self.texts = texts\n",
    "        self.labels = labels\n",
    "        self.tokenizer = tokenizer\n",
    "        self.max_length = max_length\n",
    "    \n",
    "    def __len__(self):\n",
    "        return len(self.texts)\n",
    "    \n",
    "    def __getitem__(self, idx):\n",
    "        text = self.texts[idx]\n",
    "        label = self.labels[idx]\n",
    "        encoding = self.tokenizer(text, add_special_tokens=True, max_length=self.max_length,\n",
    "                                  return_token_type_ids=True, padding='max_length',\n",
    "                                  truncation=True, return_attention_mask=True, return_tensors='pt')\n",
    "        encoding = {k: v.squeeze(0) for k, v in encoding.items()}\n",
    "        encoding['label'] = torch.tensor(label, dtype=torch.long)\n",
    "        return encoding\n"
   ]
  },
  {
   "cell_type": "code",
   "execution_count": null,
   "id": "cac5cc21",
   "metadata": {},
   "outputs": [],
   "source": [
    "device = torch.device('cuda' if torch.cuda.is_available() else 'cpu')\n",
    "bert_model_name = 'bert-base-uncased'\n",
    "model_path = './financial_sentiment_model_multi_gpu'\n",
    "num_classes = 3  \n",
    "class_names = ['Negative', 'Neutral', 'Positive']\n",
    "\n",
    "def load_model(model_path, bert_model_name, num_classes, device):\n",
    "    model = BERTSentimentClassifier(bert_model_name=bert_model_name, num_classes=num_classes)\n",
    "    state_dict = torch.load(os.path.join(model_path, \"best_model_rank_0.pt\"), map_location=device)\n",
    "    if any(k.startswith('_orig_mod.') for k in state_dict.keys()):\n",
    "        state_dict = {k.replace('_orig_mod.', ''): v for k, v in state_dict.items()}\n",
    "    model.load_state_dict(state_dict)\n",
    "    model.to(device)\n",
    "    model.eval()\n",
    "    return model\n",
    "\n",
    "def load_tokenizer(model_path, bert_model_name):\n",
    "    try:\n",
    "        return BertTokenizer.from_pretrained(model_path)\n",
    "    except:\n",
    "        return BertTokenizer.from_pretrained(bert_model_name)\n",
    "\n",
    "model = load_model(model_path, bert_model_name, num_classes, device)\n",
    "tokenizer = load_tokenizer(model_path, bert_model_name)\n"
   ]
  },
  {
   "cell_type": "code",
   "execution_count": null,
   "id": "4b3cad50",
   "metadata": {},
   "outputs": [
    {
     "data": {
      "text/html": [
       "<div>\n",
       "<style scoped>\n",
       "    .dataframe tbody tr th:only-of-type {\n",
       "        vertical-align: middle;\n",
       "    }\n",
       "\n",
       "    .dataframe tbody tr th {\n",
       "        vertical-align: top;\n",
       "    }\n",
       "\n",
       "    .dataframe thead th {\n",
       "        text-align: right;\n",
       "    }\n",
       "</style>\n",
       "<table border=\"1\" class=\"dataframe\">\n",
       "  <thead>\n",
       "    <tr style=\"text-align: right;\">\n",
       "      <th></th>\n",
       "      <th>label</th>\n",
       "      <th>text</th>\n",
       "    </tr>\n",
       "  </thead>\n",
       "  <tbody>\n",
       "    <tr>\n",
       "      <th>0</th>\n",
       "      <td>2</td>\n",
       "      <td>macgyver rules i just wanna say that bad actin...</td>\n",
       "    </tr>\n",
       "    <tr>\n",
       "      <th>1</th>\n",
       "      <td>2</td>\n",
       "      <td>politically correct dolph i respect this movie...</td>\n",
       "    </tr>\n",
       "    <tr>\n",
       "      <th>2</th>\n",
       "      <td>2</td>\n",
       "      <td>good service timely shipping item was shipping...</td>\n",
       "    </tr>\n",
       "    <tr>\n",
       "      <th>3</th>\n",
       "      <td>2</td>\n",
       "      <td>very interesting one note that a potential rea...</td>\n",
       "    </tr>\n",
       "    <tr>\n",
       "      <th>4</th>\n",
       "      <td>2</td>\n",
       "      <td>good show this may be better than the studio s...</td>\n",
       "    </tr>\n",
       "  </tbody>\n",
       "</table>\n",
       "</div>"
      ],
      "text/plain": [
       "   label                                               text\n",
       "0      2  macgyver rules i just wanna say that bad actin...\n",
       "1      2  politically correct dolph i respect this movie...\n",
       "2      2  good service timely shipping item was shipping...\n",
       "3      2  very interesting one note that a potential rea...\n",
       "4      2  good show this may be better than the studio s..."
      ]
     },
     "execution_count": 6,
     "metadata": {},
     "output_type": "execute_result"
    }
   ],
   "source": [
    "test_file = 'test.csv' \n",
    "df_test = pd.read_csv(test_file)\n",
    "df_test.head()"
   ]
  },
  {
   "cell_type": "code",
   "execution_count": 9,
   "id": "d438b81f",
   "metadata": {},
   "outputs": [],
   "source": [
    "test_dataset = FinancialSentimentDataset(\n",
    "    texts=df_test['text'].tolist(),\n",
    "    labels=df_test['label'].tolist(),\n",
    "    tokenizer=tokenizer,\n",
    "    max_length=512\n",
    ")\n",
    "\n",
    "test_loader = DataLoader(test_dataset, batch_size=128, shuffle=False, num_workers=2)\n"
   ]
  },
  {
   "cell_type": "code",
   "execution_count": 10,
   "id": "b58777a7",
   "metadata": {},
   "outputs": [
    {
     "data": {
      "application/vnd.jupyter.widget-view+json": {
       "model_id": "cc54dcb24d034736951f0184efd944fd",
       "version_major": 2,
       "version_minor": 0
      },
      "text/plain": [
       "  0%|          | 0/3047 [00:00<?, ?it/s]"
      ]
     },
     "metadata": {},
     "output_type": "display_data"
    },
    {
     "ename": "KeyboardInterrupt",
     "evalue": "",
     "output_type": "error",
     "traceback": [
      "\u001b[0;31m---------------------------------------------------------------------------\u001b[0m",
      "\u001b[0;31mKeyboardInterrupt\u001b[0m                         Traceback (most recent call last)",
      "Cell \u001b[0;32mIn[10], line 54\u001b[0m\n\u001b[1;32m     43\u001b[0m     avg_precision[\u001b[38;5;124m\"\u001b[39m\u001b[38;5;124mmicro\u001b[39m\u001b[38;5;124m\"\u001b[39m] \u001b[38;5;241m=\u001b[39m average_precision_score(y_test_bin\u001b[38;5;241m.\u001b[39mravel(), all_probs\u001b[38;5;241m.\u001b[39mravel())\n\u001b[1;32m     45\u001b[0m     \u001b[38;5;28;01mreturn\u001b[39;00m {\n\u001b[1;32m     46\u001b[0m         \u001b[38;5;124m'\u001b[39m\u001b[38;5;124maccuracy\u001b[39m\u001b[38;5;124m'\u001b[39m: accuracy, \u001b[38;5;124m'\u001b[39m\u001b[38;5;124mprecision\u001b[39m\u001b[38;5;124m'\u001b[39m: precision, \u001b[38;5;124m'\u001b[39m\u001b[38;5;124mrecall\u001b[39m\u001b[38;5;124m'\u001b[39m: recall, \u001b[38;5;124m'\u001b[39m\u001b[38;5;124mf1\u001b[39m\u001b[38;5;124m'\u001b[39m: f1,\n\u001b[1;32m     47\u001b[0m         \u001b[38;5;124m'\u001b[39m\u001b[38;5;124mconf_matrix\u001b[39m\u001b[38;5;124m'\u001b[39m: conf_matrix, \u001b[38;5;124m'\u001b[39m\u001b[38;5;124mclass_report\u001b[39m\u001b[38;5;124m'\u001b[39m: class_report,\n\u001b[0;32m   (...)\u001b[0m\n\u001b[1;32m     51\u001b[0m         \u001b[38;5;124m'\u001b[39m\u001b[38;5;124mavg_precision\u001b[39m\u001b[38;5;124m'\u001b[39m: avg_precision\n\u001b[1;32m     52\u001b[0m     }\n\u001b[0;32m---> 54\u001b[0m metrics \u001b[38;5;241m=\u001b[39m \u001b[43mevaluate_model\u001b[49m\u001b[43m(\u001b[49m\u001b[43mmodel\u001b[49m\u001b[43m,\u001b[49m\u001b[43m \u001b[49m\u001b[43mtest_loader\u001b[49m\u001b[43m,\u001b[49m\u001b[43m \u001b[49m\u001b[43mdevice\u001b[49m\u001b[43m,\u001b[49m\u001b[43m \u001b[49m\u001b[43mnum_classes\u001b[49m\u001b[43m)\u001b[49m\n",
      "Cell \u001b[0;32mIn[10], line 16\u001b[0m, in \u001b[0;36mevaluate_model\u001b[0;34m(model, test_dataloader, device, num_classes)\u001b[0m\n\u001b[1;32m     13\u001b[0m probs \u001b[38;5;241m=\u001b[39m torch\u001b[38;5;241m.\u001b[39msoftmax(outputs, dim\u001b[38;5;241m=\u001b[39m\u001b[38;5;241m1\u001b[39m)\n\u001b[1;32m     14\u001b[0m preds \u001b[38;5;241m=\u001b[39m torch\u001b[38;5;241m.\u001b[39margmax(outputs, dim\u001b[38;5;241m=\u001b[39m\u001b[38;5;241m1\u001b[39m)\n\u001b[0;32m---> 16\u001b[0m all_preds\u001b[38;5;241m.\u001b[39mextend(\u001b[43mpreds\u001b[49m\u001b[38;5;241;43m.\u001b[39;49m\u001b[43mcpu\u001b[49m\u001b[43m(\u001b[49m\u001b[43m)\u001b[49m\u001b[38;5;241m.\u001b[39mnumpy())\n\u001b[1;32m     17\u001b[0m all_labels\u001b[38;5;241m.\u001b[39mextend(labels\u001b[38;5;241m.\u001b[39mcpu()\u001b[38;5;241m.\u001b[39mnumpy())\n\u001b[1;32m     18\u001b[0m all_probs\u001b[38;5;241m.\u001b[39mextend(probs\u001b[38;5;241m.\u001b[39mcpu()\u001b[38;5;241m.\u001b[39mnumpy())\n",
      "\u001b[0;31mKeyboardInterrupt\u001b[0m: "
     ]
    }
   ],
   "source": [
    "def evaluate_model(model, test_dataloader, device, num_classes):\n",
    "    model.eval()\n",
    "    all_preds, all_labels, all_probs = [], [], []\n",
    "\n",
    "    with torch.no_grad():\n",
    "        for batch in tqdm(test_dataloader):\n",
    "            input_ids = batch['input_ids'].to(device)\n",
    "            attention_mask = batch['attention_mask'].to(device)\n",
    "            token_type_ids = batch['token_type_ids'].to(device)\n",
    "            labels = batch['label'].to(device)\n",
    "\n",
    "            outputs = model(input_ids, attention_mask, token_type_ids)\n",
    "            probs = torch.softmax(outputs, dim=1)\n",
    "            preds = torch.argmax(outputs, dim=1)\n",
    "\n",
    "            all_preds.extend(preds.cpu().numpy())\n",
    "            all_labels.extend(labels.cpu().numpy())\n",
    "            all_probs.extend(probs.cpu().numpy())\n",
    "\n",
    "    all_preds = np.array(all_preds)\n",
    "    all_labels = np.array(all_labels)\n",
    "    all_probs = np.array(all_probs)\n",
    "\n",
    "    accuracy = accuracy_score(all_labels, all_preds)\n",
    "    precision, recall, f1, _ = precision_recall_fscore_support(all_labels, all_preds, average='weighted')\n",
    "    conf_matrix = confusion_matrix(all_labels, all_preds)\n",
    "    class_report = classification_report(all_labels, all_preds, output_dict=True)\n",
    "\n",
    "    y_test_bin = label_binarize(all_labels, classes=list(range(num_classes)))\n",
    "    fpr, tpr, roc_auc = {}, {}, {}\n",
    "    for i in range(num_classes):\n",
    "        fpr[i], tpr[i], _ = roc_curve(y_test_bin[:, i], all_probs[:, i])\n",
    "        roc_auc[i] = auc(fpr[i], tpr[i])\n",
    "    fpr[\"micro\"], tpr[\"micro\"], _ = roc_curve(y_test_bin.ravel(), all_probs.ravel())\n",
    "    roc_auc[\"micro\"] = auc(fpr[\"micro\"], tpr[\"micro\"])\n",
    "\n",
    "    precision_curve, recall_curve, avg_precision = {}, {}, {}\n",
    "    for i in range(num_classes):\n",
    "        precision_curve[i], recall_curve[i], _ = precision_recall_curve(y_test_bin[:, i], all_probs[:, i])\n",
    "        avg_precision[i] = average_precision_score(y_test_bin[:, i], all_probs[:, i])\n",
    "    precision_curve[\"micro\"], recall_curve[\"micro\"], _ = precision_recall_curve(\n",
    "        y_test_bin.ravel(), all_probs.ravel())\n",
    "    avg_precision[\"micro\"] = average_precision_score(y_test_bin.ravel(), all_probs.ravel())\n",
    "\n",
    "    return {\n",
    "        'accuracy': accuracy, 'precision': precision, 'recall': recall, 'f1': f1,\n",
    "        'conf_matrix': conf_matrix, 'class_report': class_report,\n",
    "        'all_preds': all_preds, 'all_labels': all_labels, 'all_probs': all_probs,\n",
    "        'fpr': fpr, 'tpr': tpr, 'roc_auc': roc_auc,\n",
    "        'precision_curve': precision_curve, 'recall_curve': recall_curve,\n",
    "        'avg_precision': avg_precision\n",
    "    }\n",
    "\n",
    "metrics = evaluate_model(model, test_loader, device, num_classes)\n"
   ]
  },
  {
   "cell_type": "code",
   "execution_count": 5,
   "id": "df0ae83e",
   "metadata": {},
   "outputs": [
    {
     "data": {
      "text/plain": [
       "BERTSentimentClassifier(\n",
       "  (bert): BertModel(\n",
       "    (embeddings): BertEmbeddings(\n",
       "      (word_embeddings): Embedding(30522, 768, padding_idx=0)\n",
       "      (position_embeddings): Embedding(512, 768)\n",
       "      (token_type_embeddings): Embedding(2, 768)\n",
       "      (LayerNorm): LayerNorm((768,), eps=1e-12, elementwise_affine=True)\n",
       "      (dropout): Dropout(p=0.1, inplace=False)\n",
       "    )\n",
       "    (encoder): BertEncoder(\n",
       "      (layer): ModuleList(\n",
       "        (0-11): 12 x BertLayer(\n",
       "          (attention): BertAttention(\n",
       "            (self): BertSelfAttention(\n",
       "              (query): Linear(in_features=768, out_features=768, bias=True)\n",
       "              (key): Linear(in_features=768, out_features=768, bias=True)\n",
       "              (value): Linear(in_features=768, out_features=768, bias=True)\n",
       "              (dropout): Dropout(p=0.1, inplace=False)\n",
       "            )\n",
       "            (output): BertSelfOutput(\n",
       "              (dense): Linear(in_features=768, out_features=768, bias=True)\n",
       "              (LayerNorm): LayerNorm((768,), eps=1e-12, elementwise_affine=True)\n",
       "              (dropout): Dropout(p=0.1, inplace=False)\n",
       "            )\n",
       "          )\n",
       "          (intermediate): BertIntermediate(\n",
       "            (dense): Linear(in_features=768, out_features=3072, bias=True)\n",
       "            (intermediate_act_fn): GELUActivation()\n",
       "          )\n",
       "          (output): BertOutput(\n",
       "            (dense): Linear(in_features=3072, out_features=768, bias=True)\n",
       "            (LayerNorm): LayerNorm((768,), eps=1e-12, elementwise_affine=True)\n",
       "            (dropout): Dropout(p=0.1, inplace=False)\n",
       "          )\n",
       "        )\n",
       "      )\n",
       "    )\n",
       "    (pooler): BertPooler(\n",
       "      (dense): Linear(in_features=768, out_features=768, bias=True)\n",
       "      (activation): Tanh()\n",
       "    )\n",
       "  )\n",
       "  (dropout): Dropout(p=0.1, inplace=False)\n",
       "  (classifier): Linear(in_features=768, out_features=3, bias=True)\n",
       ")"
      ]
     },
     "execution_count": 5,
     "metadata": {},
     "output_type": "execute_result"
    }
   ],
   "source": [
    "model"
   ]
  },
  {
   "cell_type": "code",
   "execution_count": null,
   "id": "2dc86798",
   "metadata": {},
   "outputs": [],
   "source": []
  },
  {
   "cell_type": "markdown",
   "id": "8528071d",
   "metadata": {},
   "source": [
    "### Actural and Predicted distributions"
   ]
  },
  {
   "cell_type": "markdown",
   "id": "5ada1f84",
   "metadata": {},
   "source": [
    "The following chart shows the distribution of the three sentiment classes (Negative, Neutral, Positive) after mapping the original review scores:\n",
    "\n",
    "<img src=\"/usr1/home/s124mdg54_01/Amazon-BERT/evaluation_results_si_ep_3/class_distribution.png\" alt=\"Class Distribution\" width=\"1000\"/>"
   ]
  },
  {
   "cell_type": "markdown",
   "id": "a329255b",
   "metadata": {},
   "source": [
    "It is clear that the model has learned well in terms of distribution preoperties. Using the further evaluation criterias we can explore the quality of the model in depth."
   ]
  },
  {
   "cell_type": "markdown",
   "id": "8400aca2",
   "metadata": {},
   "source": [
    "### Quantitative Evaluation "
   ]
  },
  {
   "cell_type": "markdown",
   "id": "ef35603e",
   "metadata": {},
   "source": [
    "\n",
    "\n",
    "The model performed well across all three sentiment classes. Below are the overall metrics and the detailed classification report:\n",
    "\n",
    "\n",
    "\n",
    "| Metric     | Value   |\n",
    "|------------|---------|\n",
    "| Accuracy   | 0.7910  |\n",
    "| Precision  | 0.7889  |\n",
    "| Recall     | 0.7910  |\n",
    "| F1 Score   | 0.7890  |\n",
    "\n",
    "Per calss report\n",
    "\n",
    "\n",
    "| Class     | Precision | Recall | F1-Score | Support    |\n",
    "|-----------|-----------|--------|----------|------------|\n",
    "| Negative  | 0.7886    | 0.8575 | 0.8216   | 65,000     |\n",
    "| Neutral   | 0.7201    | 0.6570 | 0.6871   | 65,000     |\n",
    "| Positive  | 0.8582    | 0.8584 | 0.8583   | 65,000     |\n",
    "\n",
    "\n",
    "\n",
    "Specifically, The model performs best on the Positive class and shows solid generalization across the board. Neutral sentiment is slightly harder to predict, which is common due to its more ambiguous nature.\n"
   ]
  },
  {
   "cell_type": "markdown",
   "id": "5dddb30a",
   "metadata": {},
   "source": [
    "### Confusion Matrix"
   ]
  },
  {
   "cell_type": "markdown",
   "id": "6a04be68",
   "metadata": {},
   "source": [
    "Confusion matrix shows a geenral summary of the entire result of the model, which projects the numerical report.\n",
    "\n",
    "It is more clear now is that the neutral class is comparatively difficult to model to identify."
   ]
  },
  {
   "cell_type": "code",
   "execution_count": null,
   "id": "90f7aab7",
   "metadata": {},
   "outputs": [],
   "source": [
    "sns.heatmap(metrics['conf_matrix'], annot=True, fmt='d', cmap='Blues',\n",
    "            xticklabels=class_names, yticklabels=class_names)\n",
    "plt.xlabel('Predicted')\n",
    "plt.ylabel('True')\n",
    "plt.title('Confusion Matrix')\n",
    "plt.show()\n"
   ]
  },
  {
   "cell_type": "markdown",
   "id": "de46fcbc",
   "metadata": {},
   "source": [
    "\n",
    "\n",
    "<img src=\"/usr1/home/s124mdg54_01/Amazon-BERT/evaluation_results_si_ep_3/confusion_matrix.png\" alt=\"Class Distribution\" width=\"800\"/>"
   ]
  },
  {
   "cell_type": "markdown",
   "id": "53d46b64",
   "metadata": {},
   "source": [
    "### Confidence Histogram"
   ]
  },
  {
   "cell_type": "code",
   "execution_count": null,
   "id": "b70ce317",
   "metadata": {},
   "outputs": [],
   "source": [
    "confidences = np.array([metrics['all_probs'][i, pred] for i, pred in enumerate(metrics['all_preds'])])\n",
    "correct = (metrics['all_preds'] == metrics['all_labels'])\n",
    "\n",
    "plt.hist(confidences[correct], bins=20, alpha=0.7, label='Correct', color='green')\n",
    "plt.hist(confidences[~correct], bins=20, alpha=0.7, label='Incorrect', color='red')\n",
    "plt.xlabel(\"Confidence\")\n",
    "plt.ylabel(\"Count\")\n",
    "plt.title(\"Prediction Confidence Histogram\")\n",
    "plt.legend()\n",
    "plt.show()\n"
   ]
  },
  {
   "cell_type": "markdown",
   "id": "feb6b108",
   "metadata": {},
   "source": [
    "\n",
    "<img src=\"/usr1/home/s124mdg54_01/Amazon-BERT/finbert-sentiments/confidence_histogram.png\" alt=\"Class Distribution\" width=\"800\" hight=\"1000\"/>"
   ]
  },
  {
   "cell_type": "markdown",
   "id": "a8019220",
   "metadata": {},
   "source": [
    "Above histogram clearly shows that the probability of getting a wrong prediction is extremly low as well as their is high probability for always getting the accurate answer"
   ]
  },
  {
   "cell_type": "markdown",
   "id": "2a936126",
   "metadata": {},
   "source": [
    "### Performance Metrics"
   ]
  },
  {
   "cell_type": "code",
   "execution_count": null,
   "id": "160cf853",
   "metadata": {},
   "outputs": [],
   "source": [
    "# Extract metrics from classification report\n",
    "metrics_to_plot = ['precision', 'recall', 'f1-score']\n",
    "class_metrics = {}\n",
    "\n",
    "for i, class_name in enumerate(class_names):\n",
    "    if str(i) in metrics['class_report']:\n",
    "        class_data = metrics['class_report'][str(i)]\n",
    "        class_metrics[class_name] = [class_data[m] for m in metrics_to_plot]\n",
    "\n",
    "# Convert to DataFrame for plotting\n",
    "df_metrics = pd.DataFrame(class_metrics, index=metrics_to_plot).T\n",
    "\n",
    "# Plot the bar chart\n",
    "plt.figure(figsize=(10, 6))\n",
    "df_metrics.plot(kind='bar')\n",
    "plt.title(\"Performance Metrics by Class\")\n",
    "plt.ylabel(\"Score\")\n",
    "plt.xlabel(\"Class\")\n",
    "plt.ylim(0, 1)\n",
    "plt.xticks(rotation=45)\n",
    "plt.legend(loc=\"lower right\")\n",
    "plt.tight_layout()\n",
    "plt.show()\n"
   ]
  },
  {
   "cell_type": "markdown",
   "id": "4a2631f5",
   "metadata": {},
   "source": [
    "\n",
    "\n",
    "<img src=\"/usr1/home/s124mdg54_01/Amazon-BERT/finbert-sentiments/performance_metrics.png\" alt=\"Class Distribution\" width=\"800\" hight=\"1000\"/>"
   ]
  },
  {
   "cell_type": "markdown",
   "id": "918162de",
   "metadata": {},
   "source": [
    "The precision reall and f1 scores are almost near to 80% for each class and the positive class is showing promising accuracy there"
   ]
  },
  {
   "cell_type": "markdown",
   "id": "66b6f7fa",
   "metadata": {},
   "source": [
    "### ROC Curve"
   ]
  },
  {
   "cell_type": "code",
   "execution_count": null,
   "id": "0701d61b",
   "metadata": {},
   "outputs": [],
   "source": [
    "for i in range(num_classes):\n",
    "    plt.plot(metrics['fpr'][i], metrics['tpr'][i], label=f\"Class {class_names[i]} (AUC = {metrics['roc_auc'][i]:.2f})\")\n",
    "plt.plot(metrics['fpr'][\"micro\"], metrics['tpr'][\"micro\"], 'k--', label=f\"Micro Avg (AUC = {metrics['roc_auc']['micro']:.2f})\")\n",
    "plt.xlabel(\"False Positive Rate\")\n",
    "plt.ylabel(\"True Positive Rate\")\n",
    "plt.title(\"ROC Curves\")\n",
    "plt.legend()\n",
    "plt.show()\n"
   ]
  },
  {
   "cell_type": "markdown",
   "id": "8b17f185",
   "metadata": {},
   "source": [
    "\n",
    "\n",
    "\n",
    "<img src=\"/usr1/home/s124mdg54_01/Amazon-BERT/finbert-sentiments/roc_curves.png\" alt=\"Class Distribution\" width=\"800\" hight=\"1000\"/>"
   ]
  },
  {
   "cell_type": "markdown",
   "id": "f7722914",
   "metadata": {},
   "source": [
    "In ROC Curve the diagonal line shows the random guessing, in this case 1/3 probability for each class.\n",
    "\n",
    "Howeverm in the output, it goes more closwer to upper left corner means There is very low false positive rate and high True positive rate and approaching to the ideal accurate case"
   ]
  },
  {
   "cell_type": "markdown",
   "id": "d3824e90",
   "metadata": {},
   "source": [
    "There is an Interesting observation!\n",
    "The Neutral class has the best upper-left curve (whether in ROC or PR), it means our model is doing surprisingly well at identifying Neutral reviews — even though its F1 score was the lowest among the three."
   ]
  },
  {
   "cell_type": "markdown",
   "id": "a7ba8147",
   "metadata": {},
   "source": []
  },
  {
   "cell_type": "markdown",
   "id": "7e5f6721",
   "metadata": {},
   "source": []
  },
  {
   "cell_type": "markdown",
   "id": "9bb48508",
   "metadata": {},
   "source": [
    "## Building the RoBERTa Sentiment Clasifier"
   ]
  },
  {
   "cell_type": "markdown",
   "id": "d9250921",
   "metadata": {},
   "source": [
    "### Model Define"
   ]
  },
  {
   "cell_type": "code",
   "execution_count": null,
   "id": "3be9d2a4",
   "metadata": {},
   "outputs": [],
   "source": [
    "import torch\n",
    "import torch.nn as nn\n",
    "import torch.optim as optim\n",
    "from torch.utils.data import Dataset, DataLoader\n",
    "from transformers import RobertaModel, RobertaTokenizerFast\n",
    "from sklearn.metrics import accuracy_score, classification_report\n",
    "import numpy as np\n",
    "import pandas as pd\n",
    "from tqdm import tqdm\n",
    "\n",
    "\n",
    "# Define the classifier model\n",
    "class MaxPoolRobertaClassifier(nn.Module):\n",
    "    \"\"\"\n",
    "    A simple classifier using RoBERTa with max pooling.\n",
    "    This initiates the RoBERTa model and adds a classifier head on top.\n",
    "    The RoBERTa model is frozen to prevent training.\n",
    "    The classifier head consists of a series of linear layers with ReLU activations and dropout for regularization.\n",
    "    \n",
    "    Args:\n",
    "        num_labels (int): The number of output labels for the classification task.\n",
    "    \"\"\"\n",
    "    def __init__(self, num_labels=5):\n",
    "        super().__init__()\n",
    "        self.roberta = RobertaModel.from_pretrained(\"roberta-base\")\n",
    "        # Freeze RoBERTa encoder\n",
    "        for param in self.roberta.parameters():\n",
    "            param.requires_grad = False\n",
    "        \n",
    "        # classifier head\n",
    "        self.classifier = nn.Sequential(\n",
    "            nn.Linear(768, 512),\n",
    "            nn.ReLU(),\n",
    "            nn.Dropout(0.3),\n",
    "            nn.Linear(512, 128),\n",
    "            nn.ReLU(),\n",
    "            nn.Dropout(0.3),\n",
    "            nn.Linear(128, num_labels)\n",
    "        )\n",
    "        print(f\"Number of parameters: {self.num_parameters() / 1e6:.2f}M\")\n",
    "        # n of trainable params\n",
    "        self.trainable_params = sum(p.numel() for p in self.parameters() if p.requires_grad)\n",
    "    def forward(self, input_ids, attention_mask):\n",
    "        \"\"\"\n",
    "        Forward pass through the model.\n",
    "        \n",
    "        Args:\n",
    "            input_ids (torch.Tensor): Input token IDs.\n",
    "            attention_mask (torch.Tensor): Attention mask to avoid padding tokens.\n",
    "        \n",
    "        Returns:\n",
    "            torch.Tensor: Logits for each class.\n",
    "        \"\"\"\n",
    "        outputs = self.roberta(input_ids=input_ids, attention_mask=attention_mask)\n",
    "        hidden_states = outputs.last_hidden_state  # [B, L, H]\n",
    "        \n",
    "        # Mask padding tokens for pooling\n",
    "        mask = attention_mask.unsqueeze(-1).expand(hidden_states.size())\n",
    "        masked_hidden = hidden_states.masked_fill(mask == 0, -1e9)\n",
    "        \n",
    "        # Max pooling across token dimension\n",
    "        pooled_output = torch.max(masked_hidden, dim=1).values  # [B, H]\n",
    "        \n",
    "        # Feed to classifier head\n",
    "        logits = self.classifier(pooled_output)\n",
    "        return logits"
   ]
  },
  {
   "cell_type": "markdown",
   "id": "1a458db6",
   "metadata": {},
   "source": [
    "### Building the data loader"
   ]
  },
  {
   "cell_type": "markdown",
   "id": "7a4aaf3d",
   "metadata": {},
   "source": [
    "To train the model (the prediction head) we need to input the traininig data we have in an efficient way. So that we use pytorch inherent Dataset class and build out loaders"
   ]
  },
  {
   "cell_type": "code",
   "execution_count": null,
   "id": "25728a74",
   "metadata": {},
   "outputs": [],
   "source": [
    "# Create a custom dataset for Amazon reviews\n",
    "class AmazonReviewDataset(Dataset):\n",
    "    def __init__(self, dataframe, tokenizer, max_length=512):\n",
    "        self.data = dataframe\n",
    "        self.tokenizer = tokenizer\n",
    "        self.max_length = max_length\n",
    "    \n",
    "    def __len__(self):\n",
    "        return len(self.data)\n",
    "    \n",
    "    def __getitem__(self, idx):\n",
    "        text = self.data.iloc[idx]['text']\n",
    "        label = self.data.iloc[idx]['label']\n",
    "        \n",
    "        # Tokenize the text\n",
    "        encoding = self.tokenizer(\n",
    "            text,\n",
    "            add_special_tokens=True,\n",
    "            max_length=self.max_length,\n",
    "            padding='max_length',\n",
    "            truncation=True,\n",
    "            return_tensors='pt'\n",
    "        )\n",
    "        \n",
    "        # Return the encoded input and label\n",
    "        return {\n",
    "            'input_ids': encoding['input_ids'].flatten(),\n",
    "            'attention_mask': encoding['attention_mask'].flatten(),\n",
    "            'label': torch.tensor(label, dtype=torch.long)\n",
    "        }\n"
   ]
  },
  {
   "cell_type": "code",
   "execution_count": null,
   "id": "7c04ef37",
   "metadata": {},
   "outputs": [],
   "source": [
    "\n",
    "# Training function\n",
    "def train_model(model, train_loader, val_loader=None, epochs=5, learning_rate=2e-5):\n",
    "    # Set device\n",
    "    device = torch.device('cuda' if torch.cuda.is_available() else 'cpu')\n",
    "    print(f\"Using device: {device}\")\n",
    "    \n",
    "    # Move model to device\n",
    "    model = model.to(device)\n",
    "    \n",
    "    # Loss function and optimizer\n",
    "    criterion = nn.CrossEntropyLoss()\n",
    "    optimizer = optim.AdamW(model.parameters(), lr=learning_rate)\n",
    "    \n",
    "    # Training loop\n",
    "    best_val_accuracy = 0.0\n",
    "    \n",
    "    # Set up learning rate scheduler\n",
    "    scheduler = torch.optim.lr_scheduler.ReduceLROnPlateau(\n",
    "        optimizer, mode='min', factor=0.5, patience=1, verbose=True\n",
    "    )\n",
    "    \n",
    "    for epoch in range(epochs):\n",
    "        model.train()\n",
    "        train_loss = 0.0\n",
    "        all_preds = []\n",
    "        all_labels = []\n",
    "        \n",
    "        # Progress bar for training\n",
    "        progress_bar = tqdm(train_loader, desc=f'Epoch {epoch+1}/{epochs}')\n",
    "        \n",
    "        for batch in progress_bar:\n",
    "            # Move batch to device\n",
    "            input_ids = batch['input_ids'].to(device)\n",
    "            print(f\"input_ids shape: {input_ids.shape}\")\n",
    "            attention_mask = batch['attention_mask'].to(device)\n",
    "            print(f\"attention_mask shape: {attention_mask.shape}\")\n",
    "            labels = batch['label'].to(device)\n",
    "            print(f\"labels shape: {labels.shape}\")\n",
    "            \n",
    "            # Forward pass\n",
    "            optimizer.zero_grad()\n",
    "            outputs = model(input_ids=input_ids, attention_mask=attention_mask)\n",
    "            \n",
    "            # Calculate loss - check for nan values and shapes\n",
    "            try:\n",
    "                # Print shape information for debugging\n",
    "                if torch.isnan(outputs).any():\n",
    "                    print(f\"Warning: outputs contain NaN values\")\n",
    "                \n",
    "                # Make sure labels are in the correct range for the model's output classes\n",
    "                if torch.max(labels) >= outputs.size(1):\n",
    "                    print(f\"Error: Labels out of range. Max label: {torch.max(labels).item()}, Output size: {outputs.size(1)}\")\n",
    "                    continue\n",
    "                \n",
    "                loss = criterion(outputs, labels)\n",
    "                \n",
    "                # Check for NaN loss\n",
    "                if torch.isnan(loss):\n",
    "                    print(\"Warning: NaN loss detected, skipping batch\")\n",
    "                    continue\n",
    "                \n",
    "                # Backward pass and optimize\n",
    "                loss.backward()\n",
    "                optimizer.step()\n",
    "            except RuntimeError as e:\n",
    "                print(f\"Error in batch: {e}\")\n",
    "                continue\n",
    "            \n",
    "            # Track loss and predictions\n",
    "            train_loss += loss.item()\n",
    "            _, preds = torch.max(outputs, 1)\n",
    "            all_preds.extend(preds.cpu().numpy())\n",
    "            all_labels.extend(labels.cpu().numpy())\n",
    "            \n",
    "            # Update progress bar\n",
    "            progress_bar.set_postfix({'loss': train_loss / (progress_bar.n + 1)})\n",
    "        \n",
    "        # Calculate training accuracy\n",
    "        train_accuracy = accuracy_score(all_labels, all_preds)\n",
    "        print(f'Epoch {epoch+1}/{epochs}')\n",
    "        print(f'Training Loss: {train_loss/len(train_loader):.4f}, Accuracy: {train_accuracy:.4f}')\n",
    "        \n",
    "        # Validation if provided\n",
    "        if val_loader:\n",
    "            val_loss, val_accuracy, val_report = evaluate_model(model, val_loader, criterion, device)\n",
    "            print(f'Validation Loss: {val_loss:.4f}, Accuracy: {val_accuracy:.4f}')\n",
    "            print(val_report)\n",
    "            \n",
    "            # Save best model\n",
    "            if val_accuracy > best_val_accuracy:\n",
    "                best_val_accuracy = val_accuracy\n",
    "                torch.save(model.state_dict(), 'best_roberta_classifier.pt')\n",
    "                print(f'Model saved with accuracy: {val_accuracy:.4f}')\n",
    "    \n",
    "    return model"
   ]
  },
  {
   "cell_type": "code",
   "execution_count": null,
   "id": "a06f5ec7",
   "metadata": {},
   "outputs": [],
   "source": [
    "def evaluate_model(model, data_loader, criterion, device):\n",
    "    model.eval()\n",
    "    val_loss = 0.0\n",
    "    all_preds = []\n",
    "    all_labels = []\n",
    "    \n",
    "    with torch.no_grad():\n",
    "        for batch in data_loader:\n",
    "            input_ids = batch['input_ids'].to(device)\n",
    "            attention_mask = batch['attention_mask'].to(device)\n",
    "            labels = batch['label'].to(device)\n",
    "            \n",
    "            outputs = model(input_ids=input_ids, attention_mask=attention_mask)\n",
    "            loss = criterion(outputs, labels)\n",
    "            \n",
    "            val_loss += loss.item()\n",
    "            _, preds = torch.max(outputs, 1)\n",
    "            all_preds.extend(preds.cpu().numpy())\n",
    "            all_labels.extend(labels.cpu().numpy())\n",
    "    \n",
    "    val_loss = val_loss / len(data_loader)\n",
    "    val_accuracy = accuracy_score(all_labels, all_preds)\n",
    "    val_report = classification_report(all_labels, all_preds)\n",
    "    \n",
    "    return val_loss, val_accuracy, val_report"
   ]
  },
  {
   "cell_type": "code",
   "execution_count": null,
   "id": "50398bee",
   "metadata": {},
   "outputs": [],
   "source": [
    "# Prediction function\n",
    "def predict(model, text, tokenizer, device):\n",
    "    # Tokenize the text\n",
    "    encoding = tokenizer(\n",
    "        text,\n",
    "        add_special_tokens=True,\n",
    "        max_length=512,\n",
    "        padding='max_length',\n",
    "        truncation=True,\n",
    "        return_tensors='pt'\n",
    "    )\n",
    "    \n",
    "    # Move to device\n",
    "    input_ids = encoding['input_ids'].to(device)\n",
    "    attention_mask = encoding['attention_mask'].to(device)\n",
    "    \n",
    "    # Set model to evaluation mode\n",
    "    model.eval()\n",
    "    \n",
    "    # Get predictions\n",
    "    with torch.no_grad():\n",
    "        outputs = model(input_ids=input_ids, attention_mask=attention_mask)\n",
    "        _, preds = torch.max(outputs, 1)\n",
    "    \n",
    "    return preds.item()\n"
   ]
  },
  {
   "cell_type": "code",
   "execution_count": null,
   "id": "f2001a3e",
   "metadata": {},
   "outputs": [],
   "source": [
    "df_train.to_csv(\"train.csv\", index=False)\n",
    "df_test.to_csv(\"test.csv\", index=False)"
   ]
  },
  {
   "cell_type": "code",
   "execution_count": null,
   "id": "ee5aa1a9",
   "metadata": {},
   "outputs": [],
   "source": [
    "# Important: Ensure labels start from 0 and are consecutive integers\n",
    "print(\"Before label adjustment:\")\n",
    "print(f\"Train labels: {df_train['label'].unique()}\")\n",
    "print(f\"Test labels: {df_test['label'].unique()}\")\n",
    "\n",
    "# If labels are 1-indexed (1-5) instead of 0-indexed (0-4), adjust them\n",
    "if 0 not in df_train['label'].unique() and 1 in df_train['label'].unique():\n",
    "    df_train['label'] = df_train['label'] - 1\n",
    "    df_test['label'] = df_test['label'] - 1\n",
    "    print(\"After label adjustment:\")\n",
    "    print(f\"Train labels: {df_train['label'].unique()}\")\n",
    "    print(f\"Test labels: {df_test['label'].unique()}\")\n",
    "\n",
    "# Initialize the tokenizer\n",
    "tokenizer = RobertaTokenizerFast.from_pretrained('roberta-base')\n",
    "\n",
    "# Since max text length is 441, we can use a max_length of 512 (standard for RoBERTa)\n",
    "max_length = 512\n",
    "\n",
    "# Create datasets\n",
    "train_dataset = AmazonReviewDataset(df_train, tokenizer, max_length)\n",
    "test_dataset = AmazonReviewDataset(df_test, tokenizer, max_length)\n",
    "\n",
    "# Create data loaders\n",
    "batch_size = 16  # Adjust based on your GPU memory\n",
    "train_loader = DataLoader(train_dataset, batch_size=batch_size, shuffle=True)\n",
    "test_loader = DataLoader(test_dataset, batch_size=batch_size)"
   ]
  },
  {
   "cell_type": "code",
   "execution_count": null,
   "id": "1ac12b57",
   "metadata": {},
   "outputs": [],
   "source": [
    "# Initialize the model\n",
    "model = MaxPoolRobertaClassifier(num_labels=5)  # 5 classes for Amazon reviews\n",
    "\n",
    "# Train the model\n",
    "trained_model = train_model(\n",
    "    model=model,\n",
    "    train_loader=train_loader,\n",
    "    val_loader=test_loader,\n",
    "    epochs=3,  # Adjust based on your needs\n",
    "    learning_rate=2e-5\n",
    ")\n",
    "\n",
    "# Evaluate the model on test data\n",
    "device = torch.device('cuda' if torch.cuda.is_available() else 'cpu')\n",
    "criterion = nn.CrossEntropyLoss()\n",
    "test_loss, test_accuracy, test_report = evaluate_model(trained_model, test_loader, criterion, device)\n",
    "\n",
    "print(f'Test Loss: {test_loss:.4f}, Accuracy: {test_accuracy:.4f}')\n",
    "print(test_report)\n"
   ]
  },
  {
   "cell_type": "code",
   "execution_count": null,
   "id": "9951acdc",
   "metadata": {},
   "outputs": [],
   "source": []
  },
  {
   "cell_type": "markdown",
   "id": "bf69fb55",
   "metadata": {},
   "source": [
    "### Results for RoBERTa based classifier with 5 classes and max pooling - disregard"
   ]
  },
  {
   "cell_type": "markdown",
   "id": "a1102d0a",
   "metadata": {},
   "source": [
    "<img src=\"/usr1/home/s124mdg54_01/Amazon-BERT/evaluation_results/confusion_matrix.png\" alt=\"image\" width=\"512\" height=\"512\">\n"
   ]
  },
  {
   "cell_type": "markdown",
   "id": "03c86faa",
   "metadata": {},
   "source": []
  },
  {
   "cell_type": "code",
   "execution_count": null,
   "id": "c0b3244f",
   "metadata": {},
   "outputs": [],
   "source": []
  },
  {
   "cell_type": "code",
   "execution_count": null,
   "id": "e1d315f3",
   "metadata": {},
   "outputs": [],
   "source": []
  },
  {
   "cell_type": "markdown",
   "id": "8c960b4c",
   "metadata": {},
   "source": []
  }
 ],
 "metadata": {
  "kernelspec": {
   "display_name": "pytorch",
   "language": "python",
   "name": "python3"
  },
  "language_info": {
   "codemirror_mode": {
    "name": "ipython",
    "version": 3
   },
   "file_extension": ".py",
   "mimetype": "text/x-python",
   "name": "python",
   "nbconvert_exporter": "python",
   "pygments_lexer": "ipython3",
   "version": "3.10.16"
  }
 },
 "nbformat": 4,
 "nbformat_minor": 5
}
